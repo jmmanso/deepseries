{
 "cells": [
  {
   "cell_type": "markdown",
   "metadata": {},
   "source": [
    "# Simple classification of time series with DeepSeries\n",
    "\n",
    "### In this example train a classifier with a public data set of labeled numerical time series.\n",
    "### A description of the data and labels can be found here: http://kdd.ics.uci.edu/databases/synthetic_control/synthetic_control.data.html\n",
    "### It consists of 600 sequences with 60 time steps each. There are 6 labeled kinds of sequences.\n"
   ]
  },
  {
   "cell_type": "code",
   "execution_count": 1,
   "metadata": {
    "collapsed": true
   },
   "outputs": [],
   "source": [
    "import numpy as np\n",
    "import pandas as pd \n",
    "from sklearn.preprocessing import OneHotEncoder\n",
    "import os, sys\n",
    "from deepseries import deepseries, preprocessing"
   ]
  },
  {
   "cell_type": "code",
   "execution_count": 2,
   "metadata": {
    "collapsed": true
   },
   "outputs": [],
   "source": [
    "# Load data and scale each series so that its min/max are [-0.5,0.5]\n",
    "df = pd.read_pickle('ts_data.pkl')\n",
    "df = df - df.min()\n",
    "df = df/df.max() - 0.5"
   ]
  },
  {
   "cell_type": "code",
   "execution_count": 3,
   "metadata": {
    "collapsed": true
   },
   "outputs": [],
   "source": [
    "# Build an array of one-hot encoded labels\n",
    "labels = df.index.values\n",
    "enc = OneHotEncoder()\n",
    "enc.fit([[l] for l in set(labels)])\n",
    "onehot_labels = enc.transform(labels.reshape(-1,1)).toarray()"
   ]
  },
  {
   "cell_type": "code",
   "execution_count": 4,
   "metadata": {
    "collapsed": false
   },
   "outputs": [],
   "source": [
    "# Reshape labels (y) and data (X) to \n",
    "# (Nsequences=600, sequence_length=60, Nchannels=1) for X\n",
    "# (Nsequences=600, sequence_length=1, Nchannels=6) for y\n",
    "y = onehot_labels.reshape(600,1,6)\n",
    "X = df.values.reshape(600,60,1)"
   ]
  },
  {
   "cell_type": "code",
   "execution_count": 5,
   "metadata": {
    "collapsed": true
   },
   "outputs": [],
   "source": [
    "# Train-test split. Test data are the trailing 20% of samples \n",
    "split_idx = int(0.8*X.shape[0])\n",
    "Xtrain, Xtest, ytrain, ytest =  X[:split_idx], X[split_idx:], y[:split_idx], y[split_idx:]"
   ]
  },
  {
   "cell_type": "code",
   "execution_count": 14,
   "metadata": {
    "collapsed": false
   },
   "outputs": [],
   "source": [
    "# Initialize classifier\n",
    "dsc = deepseries.many2oneClassifier(\n",
    "    Xtrain, \n",
    "    ytrain, \n",
    "    Xtest, \n",
    "    ytest,\n",
    "    Nnodes=50, \n",
    "    Nlayers=2,\n",
    "    optimizer_type='AdamOptimizer', \n",
    "    optimizer_kwargs={'learning_rate':0.001},\n",
    "    batch_size=40,\n",
    "    tracking_step=20)"
   ]
  },
  {
   "cell_type": "code",
   "execution_count": 15,
   "metadata": {
    "collapsed": false
   },
   "outputs": [
    {
     "name": "stdout",
     "output_type": "stream",
     "text": [
      "train batch cost: 1.668, test cost: 1.702 \n",
      "train batch cost: 0.882, test cost: 0.950 \n",
      "train batch cost: 0.648, test cost: 0.570 \n",
      "train batch cost: 0.503, test cost: 0.438 \n",
      "train batch cost: 0.238, test cost: 0.336 \n",
      "train batch cost: 0.248, test cost: 0.306 \n",
      "train batch cost: 0.173, test cost: 0.260 \n",
      "train batch cost: 0.240, test cost: 0.286 \n",
      "train batch cost: 0.275, test cost: 0.243 \n",
      "train batch cost: 0.138, test cost: 0.197 \n",
      "train batch cost: 0.070, test cost: 0.291 \n",
      "train batch cost: 0.171, test cost: 0.201 \n",
      "train batch cost: 0.139, test cost: 0.197 \n",
      "train batch cost: 0.124, test cost: 0.227 \n",
      "train batch cost: 0.147, test cost: 0.166 \n",
      "train batch cost: 0.156, test cost: 0.170 \n",
      "train batch cost: 0.068, test cost: 0.188 \n",
      "train batch cost: 0.045, test cost: 0.194 \n",
      "train batch cost: 0.103, test cost: 0.213 \n",
      "train batch cost: 0.244, test cost: 0.182 \n"
     ]
    }
   ],
   "source": [
    "# Fit classifier\n",
    "dsc.fit(n_epochs=20)"
   ]
  },
  {
   "cell_type": "code",
   "execution_count": 16,
   "metadata": {
    "collapsed": false
   },
   "outputs": [
    {
     "data": {
      "text/plain": [
       "0.89166665"
      ]
     },
     "execution_count": 16,
     "metadata": {},
     "output_type": "execute_result"
    }
   ],
   "source": [
    "# Compute accuracy\n",
    "dsc.classification_accuracy()"
   ]
  },
  {
   "cell_type": "markdown",
   "metadata": {},
   "source": [
    "### The classifier achieves around 95% accuracy on this 6-label classification. This performance is good considering the small size of the data set. "
   ]
  },
  {
   "cell_type": "code",
   "execution_count": 11,
   "metadata": {
    "collapsed": false
   },
   "outputs": [
    {
     "name": "stdout",
     "output_type": "stream",
     "text": [
      "[[[ 0.  0.  0.  0.  1.  0.]]\n",
      "\n",
      " [[ 0.  0.  0.  0.  1.  0.]]\n",
      "\n",
      " [[ 1.  0.  0.  0.  0.  0.]]]\n"
     ]
    }
   ],
   "source": [
    "# To return predictions in one-hot encoded form:\n",
    "predictions_onehot = dsc.predict(Xtest)\n",
    "print predictions_onehot[:3]"
   ]
  },
  {
   "cell_type": "code",
   "execution_count": 12,
   "metadata": {
    "collapsed": false
   },
   "outputs": [
    {
     "name": "stdout",
     "output_type": "stream",
     "text": [
      "[[4]\n",
      " [4]\n",
      " [0]]\n"
     ]
    }
   ],
   "source": [
    "# To return predicted labels as sequential integers (e.g., the way they were before one-hot enconding in our case):\n",
    "predictions = dsc.predict(Xtest, return_class_indices=True)\n",
    "print predictions[:3]"
   ]
  },
  {
   "cell_type": "code",
   "execution_count": 13,
   "metadata": {
    "collapsed": false
   },
   "outputs": [
    {
     "name": "stdout",
     "output_type": "stream",
     "text": [
      "[[[  3.37797595e-04   8.69691794e-05   2.69701146e-03   3.38076660e-07\n",
      "     9.96877551e-01   3.12962158e-07]]\n",
      "\n",
      " [[  9.80220357e-05   1.34545862e-05   7.61539195e-05   2.44366845e-07\n",
      "     9.99811947e-01   1.84711610e-07]]\n",
      "\n",
      " [[  9.92735505e-01   5.48076676e-03   1.03452643e-04   9.06819332e-05\n",
      "     1.12063624e-03   4.69171879e-04]]]\n"
     ]
    }
   ],
   "source": [
    "# You also might want to output the softmax probabilities. \n",
    "# These are the probability distributions, P(Class_i|Sample_k), and are\n",
    "# normalized to 1 for every sample:\n",
    "probabilities = dsc.predict_proba(Xtest)\n",
    "print probabilities[:3]"
   ]
  },
  {
   "cell_type": "code",
   "execution_count": null,
   "metadata": {
    "collapsed": true
   },
   "outputs": [],
   "source": []
  }
 ],
 "metadata": {
  "kernelspec": {
   "display_name": "Python 2",
   "language": "python",
   "name": "python2"
  },
  "language_info": {
   "codemirror_mode": {
    "name": "ipython",
    "version": 2
   },
   "file_extension": ".py",
   "mimetype": "text/x-python",
   "name": "python",
   "nbconvert_exporter": "python",
   "pygments_lexer": "ipython2",
   "version": "2.7.12"
  }
 },
 "nbformat": 4,
 "nbformat_minor": 0
}
